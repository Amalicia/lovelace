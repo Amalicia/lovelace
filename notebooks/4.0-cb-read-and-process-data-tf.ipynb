{
 "cells": [
  {
   "cell_type": "code",
   "execution_count": 20,
   "metadata": {},
   "outputs": [],
   "source": [
    "import numpy as np\n",
    "import pandas as pd\n",
    "import tensorflow as tf\n",
    "\n",
    "from six.moves import urllib\n",
    "from sklearn.model_selection import train_test_split\n",
    "\n",
    "import tempfile\n",
    "import os\n",
    "import urllib"
   ]
  },
  {
   "cell_type": "code",
   "execution_count": 21,
   "metadata": {},
   "outputs": [],
   "source": [
    "DATA_DIR = os.path.join(tempfile.gettempdir(), 'haemorrhage_data')\n",
    "\n",
    "DATA_URL = \"https://storage.googleapis.com/lovelace/subset\"\n",
    "CSV_FILE = \"train_labels.csv\"\n",
    "IMAGE_LOCATION = \"images/\"\n",
    "\n",
    "CSV_URL = '%s/%s' % (DATA_URL, CSV_FILE)\n",
    "IMAGES_URL = '%s/%s' % (DATA_URL, IMAGE_LOCATION)"
   ]
  },
  {
   "cell_type": "code",
   "execution_count": 22,
   "metadata": {},
   "outputs": [],
   "source": [
    "def _download_csv(filename, url):\n",
    "    temp_file, _ = urllib.request.urlretrieve(url)\n",
    "    temp = open(temp_file)\n",
    "    f = open(filename, \"w\")\n",
    "    f.write(temp.read())\n",
    "    f.close()\n",
    "    temp.close()"
   ]
  },
  {
   "cell_type": "code",
   "execution_count": 23,
   "metadata": {},
   "outputs": [],
   "source": [
    "def download_csv(data_dir):\n",
    "    tf.io.gfile.makedirs(data_dir)\n",
    "\n",
    "    csv_file_path = os.path.join(data_dir, CSV_FILE)\n",
    "    if not tf.io.gfile.exists(csv_file_path):\n",
    "        _download_and_clean_file(csv_file_path, CSV_URL)\n",
    "\n",
    "    return csv_file_path"
   ]
  },
  {
   "cell_type": "code",
   "execution_count": 24,
   "metadata": {},
   "outputs": [],
   "source": [
    "def download_img(data_dir, image_name):\n",
    "    tf.io.gfile.makedirs(data_dir)\n",
    "    \n",
    "    image_file_path = os.path.join(data_dir, IMAGE_LOCATION)\n",
    "    \n",
    "    FULL_URL = \"%s%s.png\" %(IMAGES_URL, image_name)\n",
    "    save_loc = '%s/%s.png' % (image_file_path, image_name)\n",
    "    if not tf.io.gfile.exists(save_loc):\n",
    "        urllib.request.urlretrieve(FULL_URL, save_loc)\n",
    "    return image_file_path\n",
    "    "
   ]
  },
  {
   "cell_type": "code",
   "execution_count": 25,
   "metadata": {},
   "outputs": [],
   "source": [
    "def append_png(image):\n",
    "    return image + '.png'\n",
    "\n",
    "def create_encoder_mapping(data):\n",
    "    labels = set()\n",
    "    for i in range(len(data)):\n",
    "        labels.update(data['Tags'][i].split(' '))\n",
    "\n",
    "    labels = list(labels)\n",
    "    labels.sort()\n",
    "\n",
    "    labels_dict = {labels[i]: i for i in range(len(labels))}\n",
    "    inv_map = {v: k for k, v in labels_dict.items()}\n",
    "    return labels_dict, inv_map\n",
    "\n",
    "def encode(tags, mapping):\n",
    "    encoding = np.zeros(len(mapping), dtype='uint8')\n",
    "    tags_list = tags.split(' ')\n",
    "    for tag in tags_list:\n",
    "        encoding[mapping[tag]] = 1\n",
    "    return encoding.tolist()\n",
    "\n",
    "def encode_data(data):\n",
    "    data.fillna('', inplace=True)\n",
    "    labels_dict, inv_map = create_encoder_mapping(data)\n",
    "    data['EncodedTag'] = data.apply(lambda row: encode(row['Tags'], labels_dict), axis=1)\n",
    "    data['ImageNo'] = data['ImageNo'].apply(append_png)\n",
    "    return labels_dict, inv_map"
   ]
  },
  {
   "cell_type": "code",
   "execution_count": 26,
   "metadata": {},
   "outputs": [],
   "source": [
    "def get_image_arr(base_path):\n",
    "    images = list()\n",
    "    for image in os.listdir(base_path):\n",
    "        pic = tf.keras.preprocessing.image.load_img(base_path + image, color_mode='grayscale', target_size=(224, 244))\n",
    "        pic = tf.keras.preprocessing.image.img_to_array(pic, dtype='uint8')\n",
    "        images.append(pic)\n",
    "    return np.asarray(images, dtype='uint8')"
   ]
  },
  {
   "cell_type": "code",
   "execution_count": 27,
   "metadata": {},
   "outputs": [],
   "source": [
    "def load_data():\n",
    "    csv_file_path = download_csv(DATA_DIR)\n",
    "    df = pd.read_csv(csv_file_path)\n",
    "    path = df['ImageNo'].apply(lambda x: download_img(DATA_DIR, x))\n",
    "    \n",
    "    mapping, inv_mapping = encode_data(df)\n",
    "    image_arr = get_image_arr(path[0])\n",
    "    labels = df['EncodedTag'].values\n",
    "    labels = np.stack(labels, axis = 0)\n",
    "    print(image_arr.shape, labels.shape)\n",
    "\n",
    "    np.savez_compressed('brains.npz', image_arr, labels)\n",
    "    data = np.load('brains.npz')\n",
    "    image, label = data['arr_0'], data['arr_1']\n",
    "    print(\"Loaded: {0}, {1}\".format(image.shape, label.shape))\n",
    "    \n",
    "    x_train, y_train, x_test, y_test = train_test_split(image, label, random_state=42, test_size=0.3)\n",
    "    return x_train, y_train, x_test, y_test\n",
    "    "
   ]
  },
  {
   "cell_type": "code",
   "execution_count": 28,
   "metadata": {},
   "outputs": [
    {
     "name": "stdout",
     "output_type": "stream",
     "text": [
      "(3000, 224, 244, 1) (3000, 6)\n",
      "Loaded: (3000, 224, 244, 1), (3000, 6)\n"
     ]
    }
   ],
   "source": [
    "load_data()"
   ]
  },
  {
   "cell_type": "code",
   "execution_count": null,
   "metadata": {},
   "outputs": [],
   "source": []
  }
 ],
 "metadata": {
  "kernelspec": {
   "display_name": "Python 3",
   "language": "python",
   "name": "python3"
  },
  "language_info": {
   "codemirror_mode": {
    "name": "ipython",
    "version": 3
   },
   "file_extension": ".py",
   "mimetype": "text/x-python",
   "name": "python",
   "nbconvert_exporter": "python",
   "pygments_lexer": "ipython3",
   "version": "3.7.3"
  }
 },
 "nbformat": 4,
 "nbformat_minor": 2
}
