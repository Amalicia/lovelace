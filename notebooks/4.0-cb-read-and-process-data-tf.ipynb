{
 "cells": [
  {
   "cell_type": "code",
   "execution_count": 1,
   "metadata": {},
   "outputs": [],
   "source": [
    "import numpy as np\n",
    "import pandas as pd\n",
    "import tensorflow as tf\n",
    "\n",
    "from six.moves import urllib\n",
    "from sklearn.model_selection import train_test_split\n",
    "from io import BytesIO\n",
    "\n",
    "import tempfile\n",
    "import os\n",
    "import urllib\n",
    "import urllib.request\n",
    "import requests"
   ]
  },
  {
   "cell_type": "code",
   "execution_count": 2,
   "metadata": {},
   "outputs": [],
   "source": [
    "DATA_DIR = os.path.join(tempfile.gettempdir(), 'haemorrhage_data')\n",
    "\n",
    "DATA_URL = \"https://storage.googleapis.com/lovelace-data/subset\"\n",
    "CSV_FILE = \"train_labels.csv\"\n",
    "IMAGE_LOCATION = \"images/\"\n",
    "NPZ_FILE = \"full_data.npz\"\n",
    "\n",
    "NPZ_URL = 'https://storage.googleapis.com/lovelace-data/subset/full_data.npz'\n",
    "\n",
    "CSV_URL = '%s/%s' % (DATA_URL, CSV_FILE)\n",
    "IMAGES_URL = '%s/%s' % (DATA_URL, IMAGE_LOCATION)"
   ]
  },
  {
   "cell_type": "code",
   "execution_count": 3,
   "metadata": {},
   "outputs": [],
   "source": [
    "def _download_file(filename, url):\n",
    "    temp_file, _ = urllib.request.urlretrieve(url)\n",
    "    temp = open(temp_file)\n",
    "    f = open(filename, \"w\")\n",
    "    f.write(temp.read())\n",
    "    f.close()\n",
    "    temp.close()"
   ]
  },
  {
   "cell_type": "code",
   "execution_count": 4,
   "metadata": {},
   "outputs": [],
   "source": [
    "def download_csv(data_dir):\n",
    "    tf.io.gfile.makedirs(data_dir)\n",
    "\n",
    "    csv_file_path = os.path.join(data_dir, CSV_FILE)\n",
    "    if not tf.io.gfile.exists(csv_file_path):\n",
    "        _download_file(csv_file_path, CSV_URL)\n",
    "\n",
    "    return csv_file_path"
   ]
  },
  {
   "cell_type": "code",
   "execution_count": 5,
   "metadata": {},
   "outputs": [],
   "source": [
    "def download_img(data_dir, image_name):\n",
    "    tf.io.gfile.makedirs(data_dir)\n",
    "    \n",
    "    image_file_path = os.path.join(data_dir, IMAGE_LOCATION)\n",
    "    \n",
    "    FULL_URL = \"%s%s.png\" %(IMAGES_URL, image_name)\n",
    "    save_loc = '%s/%s.png' % (image_file_path, image_name)\n",
    "    if not tf.io.gfile.exists(save_loc):\n",
    "        urllib.request.urlretrieve(FULL_URL, save_loc)\n",
    "    return image_file_path\n",
    "    "
   ]
  },
  {
   "cell_type": "code",
   "execution_count": 6,
   "metadata": {},
   "outputs": [],
   "source": [
    "def append_png(image):\n",
    "    return image + '.png'\n",
    "\n",
    "def create_encoder_mapping(data):\n",
    "    labels = set()\n",
    "    for i in range(len(data)):\n",
    "        labels.update(data['Tags'][i].split(' '))\n",
    "\n",
    "    labels = list(labels)\n",
    "    labels.sort()\n",
    "\n",
    "    labels_dict = {labels[i]: i for i in range(len(labels))}\n",
    "    inv_map = {v: k for k, v in labels_dict.items()}\n",
    "    return labels_dict, inv_map\n",
    "\n",
    "def encode(tags, mapping):\n",
    "    encoding = np.zeros(len(mapping), dtype='uint8')\n",
    "    tags_list = tags.split(' ')\n",
    "    for tag in tags_list:\n",
    "        encoding[mapping[tag]] = 1\n",
    "    return encoding.tolist()\n",
    "\n",
    "def encode_data(data):\n",
    "    data.fillna('none', inplace=True)\n",
    "    labels_dict, inv_map = create_encoder_mapping(data)\n",
    "    data['EncodedTag'] = data.apply(lambda row: encode(row['Tags'], labels_dict), axis=1)\n",
    "    data['ImageNo'] = data['ImageNo'].apply(append_png)\n",
    "    return labels_dict, inv_map"
   ]
  },
  {
   "cell_type": "code",
   "execution_count": 7,
   "metadata": {},
   "outputs": [],
   "source": [
    "def get_image_arr(base_path):\n",
    "    images = list()\n",
    "    for image in os.listdir(base_path):\n",
    "        pic = tf.keras.preprocessing.image.load_img(base_path + image, color_mode='grayscale', target_size=(224, 244))\n",
    "        pic = tf.keras.preprocessing.image.img_to_array(pic, dtype='uint8')\n",
    "        images.append(pic)\n",
    "    return np.asarray(images, dtype='uint8')"
   ]
  },
  {
   "cell_type": "code",
   "execution_count": 15,
   "metadata": {},
   "outputs": [],
   "source": [
    "def _load_data():\n",
    "    csv_file_path = download_csv(DATA_DIR)\n",
    "    df = pd.read_csv(csv_file_path)\n",
    "    path = df['ImageNo'].apply(lambda x: download_img(DATA_DIR, x))\n",
    "    \n",
    "    mapping, inv_mapping = encode_data(df)\n",
    "    image_arr = get_image_arr(path[0])\n",
    "    labels = df['EncodedTag'].values\n",
    "    labels = np.stack(labels, axis = 0)\n",
    "\n",
    "    np.savez_compressed('full_data.npz', image_arr, labels)\n",
    "    return image_arr, labels\n",
    "\n",
    "def download_npz(data_dir):\n",
    "    path = './full_data.npz'\n",
    "    \n",
    "    urllib.request.urlretrieve('https://storage.googleapis.com/lovelace-data/subset/full_data.npz', path)\n",
    "\n",
    "    data = np.load(path)\n",
    "    image, label = data['arr_0'], data['arr_1']\n",
    "    return image, label\n",
    "\n",
    "# def load_data():\n",
    "#     request = requests.get(NPZ_URL)\n",
    "#     if request.status_code == 201:\n",
    "#         image, label = download_npz(DATA_DIR)\n",
    "#     else:\n",
    "#         image, label = _load_data()\n",
    "    \n",
    "#     print(\"Data shapes: {0}, {1}\".format(image.shape, label.shape))\n",
    "\n",
    "#     x_train, y_train, x_test, y_test = train_test_split(image, label, random_state=42, test_size=0.3)\n",
    "#     return x_train, y_train, x_test, y_test\n",
    "\n",
    "def load_data():\n",
    "    csv_file_path = download_csv(DATA_DIR)\n",
    "    df = pd.read_csv(csv_file_path)\n",
    "    path = df['ImageNo'].apply(lambda x: download_img(DATA_DIR, x))\n",
    "    \n",
    "    mapping, inv_mapping = encode_data(df)\n",
    "    print(mapping)\n",
    "    image_arr = get_image_arr(path[0])\n",
    "    labels = df['EncodedTag'].values\n",
    "    labels = np.stack(labels, axis = 0)\n",
    "    print(image_arr.shape, labels.shape)\n",
    "\n",
    "    np.savez_compressed('brains.npz', image_arr, labels)\n",
    "    data = np.load('brains.npz')\n",
    "    image, label = data['arr_0'], data['arr_1']\n",
    "    print(\"Loaded: {0}, {1}\".format(image.shape, label.shape))\n",
    "    \n",
    "    x_train, y_train, x_test, y_test = train_test_split(image, label, random_state=42, test_size=0.3)\n",
    "    return x_train, y_train, x_test, y_test\n",
    "    "
   ]
  },
  {
   "cell_type": "code",
   "execution_count": 16,
   "metadata": {},
   "outputs": [
    {
     "name": "stdout",
     "output_type": "stream",
     "text": [
      "{'': 0, 'epidural': 1, 'intraparenchymal': 2, 'intraventricular': 3, 'subarachnoid': 4, 'subdural': 5}\n",
      "(3000, 224, 244, 1) (3000, 6)\n"
     ]
    },
    {
     "ename": "KeyboardInterrupt",
     "evalue": "",
     "output_type": "error",
     "traceback": [
      "\u001b[0;31m---------------------------------------------------------------------------\u001b[0m",
      "\u001b[0;31mKeyboardInterrupt\u001b[0m                         Traceback (most recent call last)",
      "\u001b[0;32m<ipython-input-16-ca071d70619c>\u001b[0m in \u001b[0;36m<module>\u001b[0;34m\u001b[0m\n\u001b[0;32m----> 1\u001b[0;31m \u001b[0mload_data\u001b[0m\u001b[0;34m(\u001b[0m\u001b[0;34m)\u001b[0m\u001b[0;34m\u001b[0m\u001b[0;34m\u001b[0m\u001b[0m\n\u001b[0m",
      "\u001b[0;32m<ipython-input-15-404858be87d5>\u001b[0m in \u001b[0;36mload_data\u001b[0;34m()\u001b[0m\n\u001b[1;32m     45\u001b[0m     \u001b[0mprint\u001b[0m\u001b[0;34m(\u001b[0m\u001b[0mimage_arr\u001b[0m\u001b[0;34m.\u001b[0m\u001b[0mshape\u001b[0m\u001b[0;34m,\u001b[0m \u001b[0mlabels\u001b[0m\u001b[0;34m.\u001b[0m\u001b[0mshape\u001b[0m\u001b[0;34m)\u001b[0m\u001b[0;34m\u001b[0m\u001b[0;34m\u001b[0m\u001b[0m\n\u001b[1;32m     46\u001b[0m \u001b[0;34m\u001b[0m\u001b[0m\n\u001b[0;32m---> 47\u001b[0;31m     \u001b[0mnp\u001b[0m\u001b[0;34m.\u001b[0m\u001b[0msavez_compressed\u001b[0m\u001b[0;34m(\u001b[0m\u001b[0;34m'brains.npz'\u001b[0m\u001b[0;34m,\u001b[0m \u001b[0mimage_arr\u001b[0m\u001b[0;34m,\u001b[0m \u001b[0mlabels\u001b[0m\u001b[0;34m)\u001b[0m\u001b[0;34m\u001b[0m\u001b[0;34m\u001b[0m\u001b[0m\n\u001b[0m\u001b[1;32m     48\u001b[0m     \u001b[0mdata\u001b[0m \u001b[0;34m=\u001b[0m \u001b[0mnp\u001b[0m\u001b[0;34m.\u001b[0m\u001b[0mload\u001b[0m\u001b[0;34m(\u001b[0m\u001b[0;34m'brains.npz'\u001b[0m\u001b[0;34m)\u001b[0m\u001b[0;34m\u001b[0m\u001b[0;34m\u001b[0m\u001b[0m\n\u001b[1;32m     49\u001b[0m     \u001b[0mimage\u001b[0m\u001b[0;34m,\u001b[0m \u001b[0mlabel\u001b[0m \u001b[0;34m=\u001b[0m \u001b[0mdata\u001b[0m\u001b[0;34m[\u001b[0m\u001b[0;34m'arr_0'\u001b[0m\u001b[0;34m]\u001b[0m\u001b[0;34m,\u001b[0m \u001b[0mdata\u001b[0m\u001b[0;34m[\u001b[0m\u001b[0;34m'arr_1'\u001b[0m\u001b[0;34m]\u001b[0m\u001b[0;34m\u001b[0m\u001b[0;34m\u001b[0m\u001b[0m\n",
      "\u001b[0;32m~/anaconda3/lib/python3.7/site-packages/numpy/lib/npyio.py\u001b[0m in \u001b[0;36msavez_compressed\u001b[0;34m(file, *args, **kwds)\u001b[0m\n\u001b[1;32m    696\u001b[0m \u001b[0;34m\u001b[0m\u001b[0m\n\u001b[1;32m    697\u001b[0m     \"\"\"\n\u001b[0;32m--> 698\u001b[0;31m     \u001b[0m_savez\u001b[0m\u001b[0;34m(\u001b[0m\u001b[0mfile\u001b[0m\u001b[0;34m,\u001b[0m \u001b[0margs\u001b[0m\u001b[0;34m,\u001b[0m \u001b[0mkwds\u001b[0m\u001b[0;34m,\u001b[0m \u001b[0;32mTrue\u001b[0m\u001b[0;34m)\u001b[0m\u001b[0;34m\u001b[0m\u001b[0;34m\u001b[0m\u001b[0m\n\u001b[0m\u001b[1;32m    699\u001b[0m \u001b[0;34m\u001b[0m\u001b[0m\n\u001b[1;32m    700\u001b[0m \u001b[0;34m\u001b[0m\u001b[0m\n",
      "\u001b[0;32m~/anaconda3/lib/python3.7/site-packages/numpy/lib/npyio.py\u001b[0m in \u001b[0;36m_savez\u001b[0;34m(file, args, kwds, compress, allow_pickle, pickle_kwargs)\u001b[0m\n\u001b[1;32m    733\u001b[0m                 format.write_array(fid, val,\n\u001b[1;32m    734\u001b[0m                                    \u001b[0mallow_pickle\u001b[0m\u001b[0;34m=\u001b[0m\u001b[0mallow_pickle\u001b[0m\u001b[0;34m,\u001b[0m\u001b[0;34m\u001b[0m\u001b[0;34m\u001b[0m\u001b[0m\n\u001b[0;32m--> 735\u001b[0;31m                                    pickle_kwargs=pickle_kwargs)\n\u001b[0m\u001b[1;32m    736\u001b[0m     \u001b[0;32melse\u001b[0m\u001b[0;34m:\u001b[0m\u001b[0;34m\u001b[0m\u001b[0;34m\u001b[0m\u001b[0m\n\u001b[1;32m    737\u001b[0m         \u001b[0;31m# Stage arrays in a temporary file on disk, before writing to zip.\u001b[0m\u001b[0;34m\u001b[0m\u001b[0;34m\u001b[0m\u001b[0;34m\u001b[0m\u001b[0m\n",
      "\u001b[0;32m~/anaconda3/lib/python3.7/site-packages/numpy/lib/format.py\u001b[0m in \u001b[0;36mwrite_array\u001b[0;34m(fp, array, version, allow_pickle, pickle_kwargs)\u001b[0m\n\u001b[1;32m    647\u001b[0m                     \u001b[0marray\u001b[0m\u001b[0;34m,\u001b[0m \u001b[0mflags\u001b[0m\u001b[0;34m=\u001b[0m\u001b[0;34m[\u001b[0m\u001b[0;34m'external_loop'\u001b[0m\u001b[0;34m,\u001b[0m \u001b[0;34m'buffered'\u001b[0m\u001b[0;34m,\u001b[0m \u001b[0;34m'zerosize_ok'\u001b[0m\u001b[0;34m]\u001b[0m\u001b[0;34m,\u001b[0m\u001b[0;34m\u001b[0m\u001b[0;34m\u001b[0m\u001b[0m\n\u001b[1;32m    648\u001b[0m                     buffersize=buffersize, order='C'):\n\u001b[0;32m--> 649\u001b[0;31m                 \u001b[0mfp\u001b[0m\u001b[0;34m.\u001b[0m\u001b[0mwrite\u001b[0m\u001b[0;34m(\u001b[0m\u001b[0mchunk\u001b[0m\u001b[0;34m.\u001b[0m\u001b[0mtobytes\u001b[0m\u001b[0;34m(\u001b[0m\u001b[0;34m'C'\u001b[0m\u001b[0;34m)\u001b[0m\u001b[0;34m)\u001b[0m\u001b[0;34m\u001b[0m\u001b[0;34m\u001b[0m\u001b[0m\n\u001b[0m\u001b[1;32m    650\u001b[0m \u001b[0;34m\u001b[0m\u001b[0m\n\u001b[1;32m    651\u001b[0m \u001b[0;34m\u001b[0m\u001b[0m\n",
      "\u001b[0;32m~/anaconda3/lib/python3.7/zipfile.py\u001b[0m in \u001b[0;36mwrite\u001b[0;34m(self, data)\u001b[0m\n\u001b[1;32m   1094\u001b[0m         \u001b[0mself\u001b[0m\u001b[0;34m.\u001b[0m\u001b[0m_crc\u001b[0m \u001b[0;34m=\u001b[0m \u001b[0mcrc32\u001b[0m\u001b[0;34m(\u001b[0m\u001b[0mdata\u001b[0m\u001b[0;34m,\u001b[0m \u001b[0mself\u001b[0m\u001b[0;34m.\u001b[0m\u001b[0m_crc\u001b[0m\u001b[0;34m)\u001b[0m\u001b[0;34m\u001b[0m\u001b[0;34m\u001b[0m\u001b[0m\n\u001b[1;32m   1095\u001b[0m         \u001b[0;32mif\u001b[0m \u001b[0mself\u001b[0m\u001b[0;34m.\u001b[0m\u001b[0m_compressor\u001b[0m\u001b[0;34m:\u001b[0m\u001b[0;34m\u001b[0m\u001b[0;34m\u001b[0m\u001b[0m\n\u001b[0;32m-> 1096\u001b[0;31m             \u001b[0mdata\u001b[0m \u001b[0;34m=\u001b[0m \u001b[0mself\u001b[0m\u001b[0;34m.\u001b[0m\u001b[0m_compressor\u001b[0m\u001b[0;34m.\u001b[0m\u001b[0mcompress\u001b[0m\u001b[0;34m(\u001b[0m\u001b[0mdata\u001b[0m\u001b[0;34m)\u001b[0m\u001b[0;34m\u001b[0m\u001b[0;34m\u001b[0m\u001b[0m\n\u001b[0m\u001b[1;32m   1097\u001b[0m             \u001b[0mself\u001b[0m\u001b[0;34m.\u001b[0m\u001b[0m_compress_size\u001b[0m \u001b[0;34m+=\u001b[0m \u001b[0mlen\u001b[0m\u001b[0;34m(\u001b[0m\u001b[0mdata\u001b[0m\u001b[0;34m)\u001b[0m\u001b[0;34m\u001b[0m\u001b[0;34m\u001b[0m\u001b[0m\n\u001b[1;32m   1098\u001b[0m         \u001b[0mself\u001b[0m\u001b[0;34m.\u001b[0m\u001b[0m_fileobj\u001b[0m\u001b[0;34m.\u001b[0m\u001b[0mwrite\u001b[0m\u001b[0;34m(\u001b[0m\u001b[0mdata\u001b[0m\u001b[0;34m)\u001b[0m\u001b[0;34m\u001b[0m\u001b[0;34m\u001b[0m\u001b[0m\n",
      "\u001b[0;31mKeyboardInterrupt\u001b[0m: "
     ]
    }
   ],
   "source": [
    "load_data()"
   ]
  },
  {
   "cell_type": "code",
   "execution_count": 14,
   "metadata": {},
   "outputs": [
    {
     "ename": "NameError",
     "evalue": "name 'labels_dict' is not defined",
     "output_type": "error",
     "traceback": [
      "\u001b[0;31m---------------------------------------------------------------------------\u001b[0m",
      "\u001b[0;31mNameError\u001b[0m                                 Traceback (most recent call last)",
      "\u001b[0;32m<ipython-input-14-594498dcfa26>\u001b[0m in \u001b[0;36m<module>\u001b[0;34m\u001b[0m\n\u001b[0;32m----> 1\u001b[0;31m \u001b[0mprint\u001b[0m\u001b[0;34m(\u001b[0m\u001b[0mlabels_dict\u001b[0m\u001b[0;34m)\u001b[0m\u001b[0;34m\u001b[0m\u001b[0;34m\u001b[0m\u001b[0m\n\u001b[0m",
      "\u001b[0;31mNameError\u001b[0m: name 'labels_dict' is not defined"
     ]
    }
   ],
   "source": [
    "print(labels_dict)"
   ]
  },
  {
   "cell_type": "code",
   "execution_count": null,
   "metadata": {},
   "outputs": [],
   "source": []
  }
 ],
 "metadata": {
  "kernelspec": {
   "display_name": "Python 3",
   "language": "python",
   "name": "python3"
  },
  "language_info": {
   "codemirror_mode": {
    "name": "ipython",
    "version": 3
   },
   "file_extension": ".py",
   "mimetype": "text/x-python",
   "name": "python",
   "nbconvert_exporter": "python",
   "pygments_lexer": "ipython3",
   "version": "3.7.3"
  }
 },
 "nbformat": 4,
 "nbformat_minor": 2
}
