{
 "cells": [
  {
   "cell_type": "code",
   "execution_count": 45,
   "metadata": {},
   "outputs": [],
   "source": [
    "import numpy as np\n",
    "import pandas as pd\n",
    "import tensorflow as tf\n",
    "\n",
    "from six.moves import urllib\n",
    "from sklearn.model_selection import train_test_split\n",
    "from io import BytesIO\n",
    "\n",
    "import tempfile\n",
    "import os\n",
    "import urllib\n",
    "import urllib.request\n",
    "import requests"
   ]
  },
  {
   "cell_type": "code",
   "execution_count": 46,
   "metadata": {},
   "outputs": [],
   "source": [
    "DATA_DIR = os.path.join(tempfile.gettempdir(), 'haemorrhage_data')\n",
    "\n",
    "DATA_URL = \"https://storage.googleapis.com/lovelace/subset\"\n",
    "CSV_FILE = \"train_labels.csv\"\n",
    "IMAGE_LOCATION = \"images/\"\n",
    "NPZ_FILE = \"full_data.npz\"\n",
    "\n",
    "NPZ_URL = 'https://storage.googleapis.com/lovelace/subset/full_data.npz'\n",
    "\n",
    "CSV_URL = '%s/%s' % (DATA_URL, CSV_FILE)\n",
    "IMAGES_URL = '%s/%s' % (DATA_URL, IMAGE_LOCATION)"
   ]
  },
  {
   "cell_type": "code",
   "execution_count": 47,
   "metadata": {},
   "outputs": [],
   "source": [
    "def _download_file(filename, url):\n",
    "    temp_file, _ = urllib.request.urlretrieve(url)\n",
    "    temp = open(temp_file)\n",
    "    f = open(filename, \"w\")\n",
    "    f.write(temp.read())\n",
    "    f.close()\n",
    "    temp.close()"
   ]
  },
  {
   "cell_type": "code",
   "execution_count": 48,
   "metadata": {},
   "outputs": [],
   "source": [
    "def download_csv(data_dir):\n",
    "    tf.io.gfile.makedirs(data_dir)\n",
    "\n",
    "    csv_file_path = os.path.join(data_dir, CSV_FILE)\n",
    "    if not tf.io.gfile.exists(csv_file_path):\n",
    "        _download_file(csv_file_path, CSV_URL)\n",
    "\n",
    "    return csv_file_path"
   ]
  },
  {
   "cell_type": "code",
   "execution_count": 49,
   "metadata": {},
   "outputs": [],
   "source": [
    "def download_img(data_dir, image_name):\n",
    "    tf.io.gfile.makedirs(data_dir)\n",
    "    \n",
    "    image_file_path = os.path.join(data_dir, IMAGE_LOCATION)\n",
    "    \n",
    "    FULL_URL = \"%s%s.png\" %(IMAGES_URL, image_name)\n",
    "    save_loc = '%s/%s.png' % (image_file_path, image_name)\n",
    "    if not tf.io.gfile.exists(save_loc):\n",
    "        urllib.request.urlretrieve(FULL_URL, save_loc)\n",
    "    return image_file_path\n",
    "    "
   ]
  },
  {
   "cell_type": "code",
   "execution_count": 50,
   "metadata": {},
   "outputs": [],
   "source": [
    "def append_png(image):\n",
    "    return image + '.png'\n",
    "\n",
    "def create_encoder_mapping(data):\n",
    "    labels = set()\n",
    "    for i in range(len(data)):\n",
    "        labels.update(data['Tags'][i].split(' '))\n",
    "\n",
    "    labels = list(labels)\n",
    "    labels.sort()\n",
    "\n",
    "    labels_dict = {labels[i]: i for i in range(len(labels))}\n",
    "    inv_map = {v: k for k, v in labels_dict.items()}\n",
    "    return labels_dict, inv_map\n",
    "\n",
    "def encode(tags, mapping):\n",
    "    encoding = np.zeros(len(mapping), dtype='uint8')\n",
    "    tags_list = tags.split(' ')\n",
    "    for tag in tags_list:\n",
    "        encoding[mapping[tag]] = 1\n",
    "    return encoding.tolist()\n",
    "\n",
    "def encode_data(data):\n",
    "    data.fillna('', inplace=True)\n",
    "    labels_dict, inv_map = create_encoder_mapping(data)\n",
    "    data['EncodedTag'] = data.apply(lambda row: encode(row['Tags'], labels_dict), axis=1)\n",
    "    data['ImageNo'] = data['ImageNo'].apply(append_png)\n",
    "    return labels_dict, inv_map"
   ]
  },
  {
   "cell_type": "code",
   "execution_count": 51,
   "metadata": {},
   "outputs": [],
   "source": [
    "def get_image_arr(base_path):\n",
    "    images = list()\n",
    "    for image in os.listdir(base_path):\n",
    "        pic = tf.keras.preprocessing.image.load_img(base_path + image, color_mode='grayscale', target_size=(224, 244))\n",
    "        pic = tf.keras.preprocessing.image.img_to_array(pic, dtype='uint8')\n",
    "        images.append(pic)\n",
    "    return np.asarray(images, dtype='uint8')"
   ]
  },
  {
   "cell_type": "code",
   "execution_count": 71,
   "metadata": {},
   "outputs": [],
   "source": [
    "def _load_data():\n",
    "    csv_file_path = download_csv(DATA_DIR)\n",
    "    df = pd.read_csv(csv_file_path)\n",
    "    path = df['ImageNo'].apply(lambda x: download_img(DATA_DIR, x))\n",
    "    \n",
    "    mapping, inv_mapping = encode_data(df)\n",
    "    image_arr = get_image_arr(path[0])\n",
    "    labels = df['EncodedTag'].values\n",
    "    labels = np.stack(labels, axis = 0)\n",
    "\n",
    "    np.savez_compressed('full_data.npz', image_arr, labels)\n",
    "    return image_arr, labels\n",
    "\n",
    "def download_npz(data_dir):\n",
    "    tf.io.gfile.makedirs(data_dir)\n",
    "\n",
    "    npz_file_path = os.path.join(data_dir, NPZ_FILE)\n",
    "    if not tf.io.gfile.exists(npz_file_path):\n",
    "        urllib.request.urlretrieve('https://storage.googleapis.com/lovelace/subset/full_data.npz', 'test.npz')\n",
    "\n",
    "    print(npz_file_path)\n",
    "    data = np.load(npz_file_path)\n",
    "    image, label = data['arr_0'], data['arr_1']\n",
    "    return image, label\n",
    "\n",
    "def load_data():\n",
    "    request = requests.get(NPZ_URL)\n",
    "    if request.status_code == 200:\n",
    "        \n",
    "#         urllib.request.urlretrieve('https://storage.googleapis.com/lovelace/subset/full_data.npz', 'test.npz')\n",
    "#         print('saved')\n",
    "#         data = np.load('test.npz')\n",
    "#         image, label = data['arr_0'], data['arr_1']\n",
    "        download_npz(DATA_DIR)\n",
    "    else:\n",
    "        image, label = _load_data()\n",
    "    \n",
    "    print(\"Data shapes: {0}, {1}\".format(image.shape, label.shape))\n",
    "\n",
    "    x_train, y_train, x_test, y_test = train_test_split(image, label, random_state=42, test_size=0.3)\n",
    "    return x_train, y_train, x_test, y_test\n",
    "    "
   ]
  },
  {
   "cell_type": "code",
   "execution_count": 72,
   "metadata": {},
   "outputs": [
    {
     "name": "stdout",
     "output_type": "stream",
     "text": [
      "/var/folders/pb/tgdt80v172g761wzt9j1p_bh0000gn/T/haemorrhage_data/full_data.npz\n"
     ]
    },
    {
     "ename": "ValueError",
     "evalue": "Cannot load file containing pickled data when allow_pickle=False",
     "output_type": "error",
     "traceback": [
      "\u001b[0;31m---------------------------------------------------------------------------\u001b[0m",
      "\u001b[0;31mValueError\u001b[0m                                Traceback (most recent call last)",
      "\u001b[0;32m<ipython-input-72-ca071d70619c>\u001b[0m in \u001b[0;36m<module>\u001b[0;34m\u001b[0m\n\u001b[0;32m----> 1\u001b[0;31m \u001b[0mload_data\u001b[0m\u001b[0;34m(\u001b[0m\u001b[0;34m)\u001b[0m\u001b[0;34m\u001b[0m\u001b[0;34m\u001b[0m\u001b[0m\n\u001b[0m",
      "\u001b[0;32m<ipython-input-71-bfb40e0416a2>\u001b[0m in \u001b[0;36mload_data\u001b[0;34m()\u001b[0m\n\u001b[1;32m     32\u001b[0m \u001b[0;31m#         data = np.load('test.npz')\u001b[0m\u001b[0;34m\u001b[0m\u001b[0;34m\u001b[0m\u001b[0;34m\u001b[0m\u001b[0m\n\u001b[1;32m     33\u001b[0m \u001b[0;31m#         image, label = data['arr_0'], data['arr_1']\u001b[0m\u001b[0;34m\u001b[0m\u001b[0;34m\u001b[0m\u001b[0;34m\u001b[0m\u001b[0m\n\u001b[0;32m---> 34\u001b[0;31m         \u001b[0mdownload_npz\u001b[0m\u001b[0;34m(\u001b[0m\u001b[0mDATA_DIR\u001b[0m\u001b[0;34m)\u001b[0m\u001b[0;34m\u001b[0m\u001b[0;34m\u001b[0m\u001b[0m\n\u001b[0m\u001b[1;32m     35\u001b[0m     \u001b[0;32melse\u001b[0m\u001b[0;34m:\u001b[0m\u001b[0;34m\u001b[0m\u001b[0;34m\u001b[0m\u001b[0m\n\u001b[1;32m     36\u001b[0m         \u001b[0mimage\u001b[0m\u001b[0;34m,\u001b[0m \u001b[0mlabel\u001b[0m \u001b[0;34m=\u001b[0m \u001b[0m_load_data\u001b[0m\u001b[0;34m(\u001b[0m\u001b[0;34m)\u001b[0m\u001b[0;34m\u001b[0m\u001b[0;34m\u001b[0m\u001b[0m\n",
      "\u001b[0;32m<ipython-input-71-bfb40e0416a2>\u001b[0m in \u001b[0;36mdownload_npz\u001b[0;34m(data_dir)\u001b[0m\n\u001b[1;32m     20\u001b[0m \u001b[0;34m\u001b[0m\u001b[0m\n\u001b[1;32m     21\u001b[0m     \u001b[0mprint\u001b[0m\u001b[0;34m(\u001b[0m\u001b[0mnpz_file_path\u001b[0m\u001b[0;34m)\u001b[0m\u001b[0;34m\u001b[0m\u001b[0;34m\u001b[0m\u001b[0m\n\u001b[0;32m---> 22\u001b[0;31m     \u001b[0mdata\u001b[0m \u001b[0;34m=\u001b[0m \u001b[0mnp\u001b[0m\u001b[0;34m.\u001b[0m\u001b[0mload\u001b[0m\u001b[0;34m(\u001b[0m\u001b[0mnpz_file_path\u001b[0m\u001b[0;34m)\u001b[0m\u001b[0;34m\u001b[0m\u001b[0;34m\u001b[0m\u001b[0m\n\u001b[0m\u001b[1;32m     23\u001b[0m     \u001b[0mimage\u001b[0m\u001b[0;34m,\u001b[0m \u001b[0mlabel\u001b[0m \u001b[0;34m=\u001b[0m \u001b[0mdata\u001b[0m\u001b[0;34m[\u001b[0m\u001b[0;34m'arr_0'\u001b[0m\u001b[0;34m]\u001b[0m\u001b[0;34m,\u001b[0m \u001b[0mdata\u001b[0m\u001b[0;34m[\u001b[0m\u001b[0;34m'arr_1'\u001b[0m\u001b[0;34m]\u001b[0m\u001b[0;34m\u001b[0m\u001b[0;34m\u001b[0m\u001b[0m\n\u001b[1;32m     24\u001b[0m     \u001b[0;32mreturn\u001b[0m \u001b[0mimage\u001b[0m\u001b[0;34m,\u001b[0m \u001b[0mlabel\u001b[0m\u001b[0;34m\u001b[0m\u001b[0;34m\u001b[0m\u001b[0m\n",
      "\u001b[0;32m~/anaconda3/lib/python3.7/site-packages/numpy/lib/npyio.py\u001b[0m in \u001b[0;36mload\u001b[0;34m(file, mmap_mode, allow_pickle, fix_imports, encoding)\u001b[0m\n\u001b[1;32m    449\u001b[0m             \u001b[0;31m# Try a pickle\u001b[0m\u001b[0;34m\u001b[0m\u001b[0;34m\u001b[0m\u001b[0;34m\u001b[0m\u001b[0m\n\u001b[1;32m    450\u001b[0m             \u001b[0;32mif\u001b[0m \u001b[0;32mnot\u001b[0m \u001b[0mallow_pickle\u001b[0m\u001b[0;34m:\u001b[0m\u001b[0;34m\u001b[0m\u001b[0;34m\u001b[0m\u001b[0m\n\u001b[0;32m--> 451\u001b[0;31m                 raise ValueError(\"Cannot load file containing pickled data \"\n\u001b[0m\u001b[1;32m    452\u001b[0m                                  \"when allow_pickle=False\")\n\u001b[1;32m    453\u001b[0m             \u001b[0;32mtry\u001b[0m\u001b[0;34m:\u001b[0m\u001b[0;34m\u001b[0m\u001b[0;34m\u001b[0m\u001b[0m\n",
      "\u001b[0;31mValueError\u001b[0m: Cannot load file containing pickled data when allow_pickle=False"
     ]
    }
   ],
   "source": [
    "load_data()"
   ]
  },
  {
   "cell_type": "code",
   "execution_count": null,
   "metadata": {},
   "outputs": [],
   "source": []
  },
  {
   "cell_type": "code",
   "execution_count": null,
   "metadata": {},
   "outputs": [],
   "source": []
  }
 ],
 "metadata": {
  "kernelspec": {
   "display_name": "Python 3",
   "language": "python",
   "name": "python3"
  },
  "language_info": {
   "codemirror_mode": {
    "name": "ipython",
    "version": 3
   },
   "file_extension": ".py",
   "mimetype": "text/x-python",
   "name": "python",
   "nbconvert_exporter": "python",
   "pygments_lexer": "ipython3",
   "version": "3.7.3"
  }
 },
 "nbformat": 4,
 "nbformat_minor": 2
}
