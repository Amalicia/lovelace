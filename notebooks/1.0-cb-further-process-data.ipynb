{
 "cells": [
  {
   "cell_type": "code",
   "execution_count": 12,
   "metadata": {},
   "outputs": [],
   "source": [
    "import pandas as pd\n",
    "import numpy as np\n",
    "from keras.preprocessing.image import ImageDataGenerator\n",
    "from sklearn.model_selection import train_test_split\n",
    "\n",
    "seed = 7\n",
    "np.random.seed(seed)"
   ]
  },
  {
   "cell_type": "code",
   "execution_count": 34,
   "metadata": {},
   "outputs": [],
   "source": [
    "def label_haemorrhage(row):\n",
    "    labels = []\n",
    "    if row['epidural'] == '1':\n",
    "        labels.append('epidural')\n",
    "    if row['intraparenchymal'] == 1:\n",
    "        labels.append('intraparenchymal')\n",
    "    if row['intraventricular'] == 1:\n",
    "        labels.append('intraventricular')\n",
    "    if row['subarachnoid'] == 1:\n",
    "        labels.append('subarachnoid')\n",
    "    if row['subdural'] == 1:\n",
    "        labels.append('subdural')\n",
    "    return \" \".join(label for label in labels)\n",
    "\n",
    "raw_data = pd.read_csv('../data/interim/train_labels.csv', index_col=None)\n",
    "raw_data['ImageNo'].apply(append_png)\n",
    "raw_data['Tags'] = raw_data.apply(lambda row: label_haemorrhage(row), axis=1)\n",
    "raw_data = raw_data[['ImageNo', 'Tags']]\n",
    "\n",
    "raw_data.to_csv(r'../data/processed/train_labels.csv', index=None, header=True)"
   ]
  },
  {
   "cell_type": "code",
   "execution_count": null,
   "metadata": {},
   "outputs": [],
   "source": []
  }
 ],
 "metadata": {
  "kernelspec": {
   "display_name": "Python 3",
   "language": "python",
   "name": "python3"
  },
  "language_info": {
   "codemirror_mode": {
    "name": "ipython",
    "version": 3
   },
   "file_extension": ".py",
   "mimetype": "text/x-python",
   "name": "python",
   "nbconvert_exporter": "python",
   "pygments_lexer": "ipython3",
   "version": "3.7.3"
  }
 },
 "nbformat": 4,
 "nbformat_minor": 2
}
