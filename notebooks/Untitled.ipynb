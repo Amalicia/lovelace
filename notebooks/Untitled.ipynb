{
 "cells": [
  {
   "cell_type": "code",
   "execution_count": 4,
   "metadata": {},
   "outputs": [
    {
     "name": "stdout",
     "output_type": "stream",
     "text": [
      "671797\n",
      "671797\n"
     ]
    }
   ],
   "source": [
    "import glob\n",
    "import re\n",
    "\n",
    "files = glob.glob('../data/raw/train_images/*.png')\n",
    "r = re.compile(\"../data/raw/train_images/(.{0,12}).png\")\n",
    "\n",
    "images = []\n",
    "for file in files:\n",
    "    res = re.findall(r, file)\n",
    "    images.append(res)\n",
    "\n",
    "print(len(files))\n",
    "print(len(images))"
   ]
  },
  {
   "cell_type": "code",
   "execution_count": 9,
   "metadata": {},
   "outputs": [
    {
     "name": "stdout",
     "output_type": "stream",
     "text": [
      "False\n",
      "0.02213120460510254\n"
     ]
    }
   ],
   "source": [
    "import time\n",
    "\n",
    "item = 'ID_hhhhh'\n",
    "\n",
    "start_time = time.time()\n",
    "print(item in images)\n",
    "print(time.time() - start_time)"
   ]
  },
  {
   "cell_type": "code",
   "execution_count": null,
   "metadata": {},
   "outputs": [],
   "source": []
  }
 ],
 "metadata": {
  "kernelspec": {
   "display_name": "Python 3",
   "language": "python",
   "name": "python3"
  },
  "language_info": {
   "codemirror_mode": {
    "name": "ipython",
    "version": 3
   },
   "file_extension": ".py",
   "mimetype": "text/x-python",
   "name": "python",
   "nbconvert_exporter": "python",
   "pygments_lexer": "ipython3",
   "version": "3.7.3"
  }
 },
 "nbformat": 4,
 "nbformat_minor": 2
}
