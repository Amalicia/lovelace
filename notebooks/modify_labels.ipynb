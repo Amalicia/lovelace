{
 "cells": [
  {
   "cell_type": "code",
   "execution_count": 9,
   "metadata": {},
   "outputs": [],
   "source": [
    "import pandas as pd\n",
    "import glob\n",
    "import re\n",
    "import enum"
   ]
  },
  {
   "cell_type": "code",
   "execution_count": 11,
   "metadata": {},
   "outputs": [],
   "source": [
    "class DataType(enum.Enum):\n",
    "    train = 1\n",
    "    test = 2"
   ]
  },
  {
   "cell_type": "code",
   "execution_count": 13,
   "metadata": {},
   "outputs": [],
   "source": [
    "def process_labels(d_type):\n",
    "    df = pd.read_csv('../data/raw/{}_labels.csv'.format(d_type.name), index_col=False)\n",
    "    df[['ID', 'ImageNo', 'Haemorrhage_Type']] = df['ID'].str.split('_', expand=True)\n",
    "    df = df[['ImageNo', 'Haemorrhage_Type', 'Label']]\n",
    "    df.drop_duplicates(inplace=True)\n",
    "    df = df.pivot(index='ImageNo', columns='Haemorrhage_Type', values='Label').reset_index()\n",
    "    df['ImageNo'] = 'ID_' + df['ImageNo']\n",
    "\n",
    "    df.to_csv(r'../data/processed/{}_labels.csv'.format(d_type.name), index=None, header=True)\n",
    "    \n",
    "process_labels(DataType.train)\n",
    "process_labels(DataType.test)"
   ]
  },
  {
   "cell_type": "code",
   "execution_count": 4,
   "metadata": {},
   "outputs": [
    {
     "name": "stdout",
     "output_type": "stream",
     "text": [
      "671797\n",
      "671797\n"
     ]
    }
   ],
   "source": [
    "# can be used to see the difference in number of rows in table and number of images\n",
    "files = glob.glob('../data/raw/train_images/*.png')\n",
    "r = re.compile(\"../data/raw/train_images/(.{0,12}).png\")\n",
    "\n",
    "images = []\n",
    "for file in files:\n",
    "    res = re.findall(r, file)\n",
    "    images.append(res)\n",
    "\n",
    "print(len(images))"
   ]
  },
  {
   "cell_type": "code",
   "execution_count": null,
   "metadata": {},
   "outputs": [],
   "source": []
  },
  {
   "cell_type": "code",
   "execution_count": null,
   "metadata": {},
   "outputs": [],
   "source": []
  }
 ],
 "metadata": {
  "kernelspec": {
   "display_name": "Python 3",
   "language": "python",
   "name": "python3"
  },
  "language_info": {
   "codemirror_mode": {
    "name": "ipython",
    "version": 3
   },
   "file_extension": ".py",
   "mimetype": "text/x-python",
   "name": "python",
   "nbconvert_exporter": "python",
   "pygments_lexer": "ipython3",
   "version": "3.7.3"
  }
 },
 "nbformat": 4,
 "nbformat_minor": 2
}
